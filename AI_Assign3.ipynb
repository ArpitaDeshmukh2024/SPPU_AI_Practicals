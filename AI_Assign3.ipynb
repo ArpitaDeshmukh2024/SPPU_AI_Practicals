{
  "nbformat": 4,
  "nbformat_minor": 0,
  "metadata": {
    "colab": {
      "provenance": [],
      "authorship_tag": "ABX9TyPbYgJ41Aj2wACtl7IDyeyN",
      "include_colab_link": true
    },
    "kernelspec": {
      "name": "python3",
      "display_name": "Python 3"
    },
    "language_info": {
      "name": "python"
    }
  },
  "cells": [
    {
      "cell_type": "markdown",
      "metadata": {
        "id": "view-in-github",
        "colab_type": "text"
      },
      "source": [
        "<a href=\"https://colab.research.google.com/github/ArpitaDeshmukh2024/SPPU_AI_Practicals/blob/main/AI_Assign3.ipynb\" target=\"_parent\"><img src=\"https://colab.research.google.com/assets/colab-badge.svg\" alt=\"Open In Colab\"/></a>"
      ]
    },
    {
      "cell_type": "code",
      "execution_count": null,
      "metadata": {
        "colab": {
          "base_uri": "https://localhost:8080/"
        },
        "id": "CBoKU8too-tL",
        "outputId": "05dd4655-c384-4a80-a74f-42df73b4c4e4"
      },
      "outputs": [
        {
          "output_type": "stream",
          "name": "stdout",
          "text": [
            "Enter the number of vertices : 5\n",
            "Enter the number of edges : 7\n",
            "Enter edge (u , v , weight) : 0 1 2\n",
            "Enter edge (u , v , weight) : 0 3 4\n",
            "Enter edge (u , v , weight) : 1 2 3\n",
            "Enter edge (u , v , weight) : 1 3 2\n",
            "Enter edge (u , v , weight) : 2 4 1\n",
            "Enter edge (u , v , weight) : 3 4 5\n",
            "Enter edge (u , v , weight) : 2 3 1\n",
            "Enter the starting vertex (0 to 4) : 0\n",
            "Minimum Spanning Tree : \n",
            "Edge : 0 - 1 , weight : 2\n",
            "Edge : 1 - 3 , weight : 2\n",
            "Edge : 3 - 2 , weight : 1\n",
            "Edge : 2 - 4 , weight : 1\n"
          ]
        }
      ],
      "source": [
        "import heapq\n",
        "\n",
        "class Graph :\n",
        "  def __init__(self , vertices) :\n",
        "    self.vertices = vertices\n",
        "    self.graph = [[] for _ in range(vertices)]\n",
        "\n",
        "  def add_edge(self , u , v , weight) :\n",
        "    self.graph[u].append((v , weight))\n",
        "    self.graph[v].append((u , weight))\n",
        "\n",
        "  def prim_mst(self) :\n",
        "    pq = []\n",
        "    mst = []\n",
        "    visited = set()\n",
        "\n",
        "    start_vertex = int(input(\"Enter the starting vertex (0 to {}) : \".format(self.vertices-1)))\n",
        "    if start_vertex < 0 or start_vertex >= self.vertices :\n",
        "      print(\"Invalid Starting Point\")\n",
        "      return[]\n",
        "\n",
        "    for neighbor , weight in self.graph[start_vertex] :\n",
        "      heapq.heappush(pq , (weight , start_vertex , neighbor))\n",
        "\n",
        "    visited.add(start_vertex)\n",
        "    while pq:\n",
        "      weight , u , v = heapq.heappop(pq)\n",
        "      if v not in visited :\n",
        "        visited.add(v)\n",
        "        mst.append((u , v, weight))\n",
        "        for neighbor , weight in self.graph[v] :\n",
        "          heapq.heappush(pq , (weight , v , neighbor))\n",
        "    return mst\n",
        "\n",
        "num_vertices = int(input(\"Enter the number of vertices : \"))\n",
        "\n",
        "g = Graph(num_vertices)\n",
        "\n",
        "num_edges = int(input(\"Enter the number of edges : \"))\n",
        "for _ in range(num_edges) :\n",
        "  u , v, weight = map(int , input(\"Enter edge (u , v , weight) : \").split())\n",
        "  g.add_edge(u , v , weight)\n",
        "\n",
        "minimum_spanning_tree = g.prim_mst()\n",
        "if minimum_spanning_tree:\n",
        "  print(\"Minimum Spanning Tree : \")\n",
        "  for edge in minimum_spanning_tree :\n",
        "    print(f\"Edge : {edge[0]} - {edge[1]} , weight : {edge[2]}\")\n",
        "else :\n",
        "  print(\"Invalid input or graph disconnected\")"
      ]
    }
  ]
}