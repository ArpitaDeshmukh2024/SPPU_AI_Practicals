{
  "nbformat": 4,
  "nbformat_minor": 0,
  "metadata": {
    "colab": {
      "provenance": [],
      "authorship_tag": "ABX9TyOGRdzg9y/ld1yZw7qSCShd",
      "include_colab_link": true
    },
    "kernelspec": {
      "name": "python3",
      "display_name": "Python 3"
    },
    "language_info": {
      "name": "python"
    }
  },
  "cells": [
    {
      "cell_type": "markdown",
      "metadata": {
        "id": "view-in-github",
        "colab_type": "text"
      },
      "source": [
        "<a href=\"https://colab.research.google.com/github/ArpitaDeshmukh2024/SPPU_AI_Practicals/blob/main/AI_Assign4_branchbounding.ipynb\" target=\"_parent\"><img src=\"https://colab.research.google.com/assets/colab-badge.svg\" alt=\"Open In Colab\"/></a>"
      ]
    },
    {
      "cell_type": "markdown",
      "source": [
        "**Branch Bounding**\n",
        "\n",
        " Find the optimal solution or approximate solutions to combinatorial optimization problems.\n",
        "\n",
        "**N Queens Problem**\n",
        "\n",
        "The N-Queens problem is a classic problem in combinatorial optimization and recreational mathematics. It involves placing N chess queens on an N×N chessboard in such a way that no two queens threaten each other. In other words, no two queens should share the same row, column, or diagonal."
      ],
      "metadata": {
        "id": "is23T-W_Bq4z"
      }
    },
    {
      "cell_type": "code",
      "execution_count": null,
      "metadata": {
        "colab": {
          "base_uri": "https://localhost:8080/"
        },
        "id": "dTzjEBaqfH_Y",
        "outputId": "0a01876c-62ea-43bf-f13f-741cdce99f8b"
      },
      "outputs": [
        {
          "output_type": "stream",
          "name": "stdout",
          "text": [
            "Enter a Number : 4\n",
            "0 0 1 0 \n",
            "1 0 0 0 \n",
            "0 0 0 1 \n",
            "0 1 0 0 \n"
          ]
        },
        {
          "output_type": "execute_result",
          "data": {
            "text/plain": [
              "True"
            ]
          },
          "metadata": {},
          "execution_count": 1
        }
      ],
      "source": [
        "def printSolution(board) :\n",
        "  for i in range(N) :\n",
        "    for j in range(N) :\n",
        "      print(board[i][j] , end = \" \")\n",
        "    print()\n",
        "\n",
        "def isSafe(row , col , nd , rd , rowLookup , ndLookup , rdLookup) :\n",
        "  if(ndLookup[nd[row][col]] or rdLookup[rd[row][col]] or rowLookup[row]) :\n",
        "    return False\n",
        "  return True\n",
        "\n",
        "def solveNqueensUtil(board , col , nd , rd , rowLookup , ndLookup , rdLookup) :\n",
        "  if(col >= N) :\n",
        "    return True\n",
        "\n",
        "  for i in range(N) :\n",
        "    if(isSafe(i , col , nd , rd , rowLookup , ndLookup , rdLookup)) :\n",
        "      board[i][col] = 1\n",
        "      rowLookup[i] = True\n",
        "      ndLookup[nd[i][col]] = True\n",
        "      rdLookup[rd[i][col]] = True\n",
        "\n",
        "      if(solveNqueensUtil(board , col + 1 , nd , rd , rowLookup , ndLookup , rdLookup)) :\n",
        "        return True\n",
        "\n",
        "      board[i][col] = 0\n",
        "      rowLookup[i] = False\n",
        "      ndLookup[nd[i][col]] = False\n",
        "      rdLookup[rd[i][col]] = False\n",
        "\n",
        "  return False\n",
        "\n",
        "def SolveNQueens(N) :\n",
        "  board = [[0 for i in range(N)] for j in range(N)]\n",
        "  nd = [[0 for i in range(N)] for j in range(N)]\n",
        "  rd = [[0 for i in range(N)] for j in range(N)]\n",
        "  rowLookup = [False] * N\n",
        "\n",
        "  x = 2 * N -1\n",
        "  ndLookup = [False] * x\n",
        "  rdLookup = [False] * x\n",
        "\n",
        "  for r in range(N) :\n",
        "    for c in range(N) :\n",
        "      nd[r][c] = r + c\n",
        "      rd[r][c] = r - c + N -1\n",
        "\n",
        "  if(solveNqueensUtil(board , 0 , nd , rd , rowLookup , ndLookup , rdLookup) == False) :\n",
        "    print(\"Solution Does Not Exist...\")\n",
        "    return False\n",
        "\n",
        "  printSolution(board)\n",
        "  return True\n",
        "\n",
        "N = int(input(\"Enter a Number : \"))\n",
        "SolveNQueens(N)"
      ]
    },
    {
      "cell_type": "markdown",
      "source": [
        "**Code Explanation :**\n",
        "\n",
        "**printSolution()** is responsible for printing the solution represented by the chessboard. It takes the board as input, which is a 2D list representing the positions of the queens on the chessboard. It iterates over each row and column of the board and prints the values, followed by a newline after each row.\n",
        "\n"
      ],
      "metadata": {
        "id": "6LeDWwzxC0p4"
      }
    }
  ]
}