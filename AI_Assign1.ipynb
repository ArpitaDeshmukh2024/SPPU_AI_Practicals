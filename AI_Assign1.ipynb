{
  "nbformat": 4,
  "nbformat_minor": 0,
  "metadata": {
    "colab": {
      "provenance": [],
      "authorship_tag": "ABX9TyOW+jGUEK1J+U3qd2/BeDSk",
      "include_colab_link": true
    },
    "kernelspec": {
      "name": "python3",
      "display_name": "Python 3"
    },
    "language_info": {
      "name": "python"
    }
  },
  "cells": [
    {
      "cell_type": "markdown",
      "metadata": {
        "id": "view-in-github",
        "colab_type": "text"
      },
      "source": [
        "<a href=\"https://colab.research.google.com/github/ArpitaDeshmukh2024/SPPU_AI_Practicals/blob/main/AI_Assign1.ipynb\" target=\"_parent\"><img src=\"https://colab.research.google.com/assets/colab-badge.svg\" alt=\"Open In Colab\"/></a>"
      ]
    },
    {
      "cell_type": "code",
      "execution_count": null,
      "metadata": {
        "id": "WBC01ooRjBeM",
        "colab": {
          "base_uri": "https://localhost:8080/"
        },
        "outputId": "dc35e507-ee8c-4940-e536-430ecc9a87f9"
      },
      "outputs": [
        {
          "output_type": "stream",
          "name": "stdout",
          "text": [
            "Enter the number of Vertices : 6\n",
            "Enter the number of edges : 7\n",
            "Enter edge (u , v) : 6 4\n",
            "Enter edge (u , v) : 4 3\n",
            "Enter edge (u , v) : 3 2\n",
            "Enter edge (u , v) : 4 5\n",
            "Enter edge (u , v) : 5 2\n",
            "Enter edge (u , v) : 5 1\n",
            "Enter edge (u , v) : 2 1\n",
            "Enter the starting vertex for DFS and BFS : 1\n",
            "DFS starting from vertex 1 : \n",
            "1 5 4 6 3 2 \n",
            "BFS starting from vertex 1 : \n",
            "1 5 2 4 3 6 \n"
          ]
        }
      ],
      "source": [
        "class Graph :\n",
        "  def __init__(self) :\n",
        "    self.graph = {}\n",
        "\n",
        "  def add_edge(self , u, v) :\n",
        "    if u not in self.graph :\n",
        "      self.graph[u] = []\n",
        "    if v not in self.graph :\n",
        "      self.graph[v] = []\n",
        "\n",
        "    self.graph[u].append(v)\n",
        "    self.graph[v].append(u)\n",
        "\n",
        "  def dfs_recursive(self , v, visited) :\n",
        "    visited[v] = True\n",
        "    print(v, end = ' ')\n",
        "\n",
        "    for neighbor in self.graph[v] :\n",
        "      if not visited[neighbor] :\n",
        "        self.dfs_recursive(neighbor , visited)\n",
        "\n",
        "  def dfs(self , start) :\n",
        "    visited = {vertex : False for vertex in self.graph}\n",
        "    self.dfs_recursive(start , visited)\n",
        "    print()\n",
        "\n",
        "  def bfs(self , start) :\n",
        "    visited = {vertex : False for vertex in self.graph}\n",
        "    queue =[start]\n",
        "    visited[start] = True\n",
        "\n",
        "    while queue :\n",
        "      current = queue.pop(0)\n",
        "      print(current , end = ' ')\n",
        "\n",
        "      for neighbor in self.graph[current] :\n",
        "        if not visited[neighbor] :\n",
        "          queue.append(neighbor)\n",
        "          visited[neighbor] = True\n",
        "    print()\n",
        "\n",
        "num_vertices = int(input(\"Enter the number of Vertices : \"))\n",
        "num_edges = int(input(\"Enter the number of edges : \"))\n",
        "\n",
        "g = Graph()\n",
        "\n",
        "i = 0\n",
        "for i in range(0 , num_edges) :\n",
        "  u , v = map(int , input(\"Enter edge (u , v) : \").split())\n",
        "  g.add_edge(u , v)\n",
        "\n",
        "start_vertex = int(input(\"Enter the starting vertex for DFS and BFS : \"))\n",
        "\n",
        "print(f\"DFS starting from vertex {start_vertex} : \")\n",
        "g.dfs(start_vertex)\n",
        "\n",
        "print(f\"BFS starting from vertex {start_vertex} : \")\n",
        "g.bfs(start_vertex)"
      ]
    }
  ]
}